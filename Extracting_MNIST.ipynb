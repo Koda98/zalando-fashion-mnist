{
 "cells": [
  {
   "cell_type": "markdown",
   "metadata": {},
   "source": [
    "# Extracting MNIST images of IDX byte file\n",
    "This is an example how you can extract the images of a given IDX file. IDX is a format for vectors and multidimensional matrices of various numerical types.<br>\n",
    "If you extract the images, there will be ten subfolders created for each class including the images. You can use this method for extracting the following datasets:\n",
    "\n",
    "Fashion-MNIST: https://github.com/zalandoresearch/fashion-mnist<br>\n",
    "MNIST by Yann LeCun: http://yann.lecun.com/exdb/mnist/"
   ]
  },
  {
   "cell_type": "code",
   "execution_count": 1,
   "metadata": {
    "collapsed": true
   },
   "outputs": [],
   "source": [
    "import numpy as np\n",
    "import cv2, os, struct\n",
    "\n",
    "## TEST data\n",
    "# Fashion-MNIST\n",
    "test_labels_path = 'data/fashion_mnist/t10k-labels-idx1-ubyte' \n",
    "test_images_path = 'data/fashion_mnist/t10k-images-idx3-ubyte'\n",
    "# MNIST\n",
    "#test_labels_path = 'data/mnist/t10k-labels-idx1-ubyte'\n",
    "#test_images_path = 'data/mnist/t10k-images-idx3-ubyte'\n",
    "\n",
    "## TRAIN data\n",
    "# Fashion-MNIST\n",
    "train_labels_path = 'data/fashion_mnist/train-labels-idx1-ubyte'\n",
    "train_images_path = 'data/fashion_mnist/train-images-idx3-ubyte'\n",
    "# MNIST\n",
    "#train_labels_path = 'data/mnist/train-labels-idx1-ubyte'\n",
    "#train_images_path = 'data/mnist/train-images-idx3-ubyte'\n",
    "\n",
    "def extract_mnist(images_path, labels_path, save_folder):\n",
    "    '''\n",
    "    Extract images of an idx byte file\n",
    "    ----------\n",
    "    images_path : filepath of the images (idx byte)\n",
    "    labels_path : filepath of the labels (idx byte)\n",
    "    save_folder : path for saving the raw images in subfolders of each class\n",
    "    '''\n",
    "    \n",
    "    labels = []\n",
    "    \n",
    "    with open(labels_path, 'rb') as lbpath:\n",
    "        magic, n = struct.unpack('>II', lbpath.read(8))\n",
    "        labels = np.fromfile(lbpath, dtype=np.uint8)\n",
    "    \n",
    "    with open(images_path, \"rb\") as images_file:\n",
    "        images_file.read(4)\n",
    "        images_file.read(4)\n",
    "        images_file.read(4)\n",
    "        images_file.read(4)\n",
    "        count = 0\n",
    "        image = np.zeros((28, 28, 1), np.uint8)\n",
    "        image_bytes = images_file.read(784)\n",
    "        while image_bytes:\n",
    "            image_unsigned_char = struct.unpack(\"=784B\", image_bytes)\n",
    "            for i in range(784):\n",
    "                image.itemset(i, image_unsigned_char[i])\n",
    "            image_save_path = \"%s/%i/%d.png\" % (save_folder, labels[count], count)\n",
    "            save_path = \"%s/%i/\" % (save_folder, labels[count])\n",
    "            \n",
    "            if not os.path.exists(save_path):\n",
    "                os.makedirs(save_path)\n",
    "            \n",
    "            cv2.imwrite(image_save_path, image)\n",
    "            image_bytes = images_file.read(784)\n",
    "            count += 1"
   ]
  },
  {
   "cell_type": "markdown",
   "metadata": {},
   "source": [
    "#### Perform extraction"
   ]
  },
  {
   "cell_type": "code",
   "execution_count": 2,
   "metadata": {
    "collapsed": true,
    "scrolled": true
   },
   "outputs": [],
   "source": [
    "# Test data saved in folder `data/test/fashion_mnist`\n",
    "extract_mnist(test_images_path, test_labels_path,'data/test/fashion_mnist')\n",
    "\n",
    "# Training data saved in folder `data/train/fashion_mnist`\n",
    "extract_mnist(train_images_path, train_labels_path,'data/train/fashion_mnist')"
   ]
  }
 ],
 "metadata": {
  "kernelspec": {
   "display_name": "Python 2",
   "language": "python",
   "name": "python2"
  },
  "language_info": {
   "codemirror_mode": {
    "name": "ipython",
    "version": 2
   },
   "file_extension": ".py",
   "mimetype": "text/x-python",
   "name": "python",
   "nbconvert_exporter": "python",
   "pygments_lexer": "ipython2",
   "version": "2.7.13"
  }
 },
 "nbformat": 4,
 "nbformat_minor": 2
}
